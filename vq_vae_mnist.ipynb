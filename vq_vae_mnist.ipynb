{
  "nbformat": 4,
  "nbformat_minor": 0,
  "metadata": {
    "colab": {
      "name": "vq-vae-mnist.ipynb",
      "provenance": [],
      "authorship_tag": "ABX9TyMI3dpfdQVBkGV4ALDBEE37",
      "include_colab_link": true
    },
    "kernelspec": {
      "name": "python3",
      "display_name": "Python 3"
    }
  },
  "cells": [
    {
      "cell_type": "markdown",
      "metadata": {
        "id": "view-in-github",
        "colab_type": "text"
      },
      "source": [
        "<a href=\"https://colab.research.google.com/github/bthorne93/BFoRe/blob/master/vq_vae_mnist.ipynb\" target=\"_parent\"><img src=\"https://colab.research.google.com/assets/colab-badge.svg\" alt=\"Open In Colab\"/></a>"
      ]
    },
    {
      "cell_type": "markdown",
      "metadata": {
        "id": "sQo3lTQIifHB",
        "colab_type": "text"
      },
      "source": [
        "## Vector-Quantized Variational Autoencoder\n",
        "\n",
        "In this notebook we will be exploring the vector-quantized variational autoencoder (VQ-VAE) and its performance on the MNIST dataset compared to the simpler variational autoencoder."
      ]
    },
    {
      "cell_type": "code",
      "metadata": {
        "id": "dxHbGn5giUSv",
        "colab_type": "code",
        "colab": {}
      },
      "source": [
        ""
      ],
      "execution_count": null,
      "outputs": []
    }
  ]
}